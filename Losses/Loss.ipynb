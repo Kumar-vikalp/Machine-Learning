{
 "cells": [
  {
   "cell_type": "markdown",
   "id": "1392ae26",
   "metadata": {},
   "source": [
    "# Loss\n",
    "\n",
    "loss is not positivie or negative its absolute\n"
   ]
  },
  {
   "cell_type": "code",
   "execution_count": 10,
   "id": "e258754e",
   "metadata": {},
   "outputs": [],
   "source": [
    "# eg\n",
    "# there is a and b \n",
    "# and total distance is 10\n",
    "# both of em has to go straight to reach distance \n",
    "# but a got distracted but he reached dtstance 2\n",
    "# in the same time b who aint got distracted he covered distance = 13\n",
    "\n",
    "# |____________________0________|\n",
    "# <----------10-------->\n",
    "# <---------------13------------>\n",
    "\n",
    "# # a who got distracted\n",
    "# |____________________|________|\n",
    "# <---------10---------|---+3--->\n",
    "# a covered 2\n",
    "# <---2--->\n",
    "# a was not able to coverd 8\n",
    "# <___2___>_____-8_____|---+3--->\n",
    "# data loss of 8 \n",
    "# we will call this -8 loss\n",
    "\n",
    "# # b who aint got distracted\n",
    "# |____________________|________|\n",
    "# <---------10---------|---+3--->\n",
    "# b covered 13\n",
    "# +3 extra\n",
    "# we will call this +3 loss\n",
    "\n",
    "\n",
    "a = -8\n",
    "b = +3\n",
    "\n",
    "# overall_loss = -8+3\n",
    "# a+b\n",
    "# -5\n",
    "# but its normal addition we want absolute loss\n",
    "\n",
    "# Absolute \n",
    "# positive loss + negative loss\n",
    "# or vice versa\n",
    "# to get this we have a funtion called abs\n",
    "# abs(a)+b\n",
    "# 11\n",
    "\n"
   ]
  },
  {
   "cell_type": "markdown",
   "id": "b146e7b3",
   "metadata": {},
   "source": [
    "MAE  : Mean Absolute Error\n",
    "\n",
    "MSE  : Mean Square Error\n",
    "\n",
    "RMSE : Root Mean Square Error\n",
    "\n",
    "\n",
    "the actual impletation is opposite like:\n",
    "    `Error Absolute Mean`\n",
    "    \n",
    "    \n",
    "OLS  : Ordinary List Square\n"
   ]
  },
  {
   "cell_type": "code",
   "execution_count": null,
   "id": "616d10c9",
   "metadata": {},
   "outputs": [],
   "source": []
  }
 ],
 "metadata": {
  "kernelspec": {
   "display_name": "Python 3 (ipykernel)",
   "language": "python",
   "name": "python3"
  },
  "language_info": {
   "codemirror_mode": {
    "name": "ipython",
    "version": 3
   },
   "file_extension": ".py",
   "mimetype": "text/x-python",
   "name": "python",
   "nbconvert_exporter": "python",
   "pygments_lexer": "ipython3",
   "version": "3.11.4"
  }
 },
 "nbformat": 4,
 "nbformat_minor": 5
}
